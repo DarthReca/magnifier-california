{
 "cells": [
  {
   "cell_type": "code",
   "execution_count": 6,
   "metadata": {},
   "outputs": [],
   "source": [
    "import segmentation_models_pytorch as smp\n",
    "from segmentation_models_pytorch.decoders.deeplabv3.decoder import DeepLabV3PlusDecoder\n",
    "import torch"
   ]
  },
  {
   "cell_type": "code",
   "execution_count": 26,
   "metadata": {},
   "outputs": [],
   "source": [
    "small_encoder = smp.encoders.get_encoder(\"resnet18\", in_channels=12, output_stride=16)\n",
    "big_encoder = smp.encoders.get_encoder(\"resnet18\", in_channels=12, output_stride=16)\n",
    "\n",
    "decoder = DeepLabV3PlusDecoder(\n",
    "    encoder_channels=[c*2 for c in small_encoder.out_channels],\n",
    "    out_channels=256,\n",
    "    atrous_rates=(12, 24, 36),\n",
    "    output_stride=16,\n",
    ")\n",
    "head = smp.base.SegmentationHead(\n",
    "    in_channels=decoder.out_channels,\n",
    "    out_channels=2,\n",
    "    kernel_size=1,\n",
    "    activation=None,\n",
    "    upsampling=4,\n",
    ")"
   ]
  },
  {
   "cell_type": "code",
   "execution_count": 27,
   "metadata": {},
   "outputs": [],
   "source": [
    "# Create random input with 12 channels and batch size 2 and image size 512x512\n",
    "x = torch.rand(2, 12, 512, 512)\n",
    "# Forward pass\n",
    "out_0, out_1 = small_encoder(x), big_encoder(x)\n",
    "out = [torch.cat(o, dim=1) for o in zip(out_0, out_1)]\n",
    "out = decoder(*out)\n",
    "out = head(out)"
   ]
  },
  {
   "cell_type": "code",
   "execution_count": 25,
   "metadata": {},
   "outputs": [
    {
     "data": {
      "text/plain": [
       "(12, 64, 64, 128, 256, 512, 12, 64, 64, 128, 256, 512)"
      ]
     },
     "execution_count": 25,
     "metadata": {},
     "output_type": "execute_result"
    }
   ],
   "source": [
    "small_encoder.out_channels*2"
   ]
  },
  {
   "cell_type": "code",
   "execution_count": 1,
   "metadata": {},
   "outputs": [
    {
     "name": "stderr",
     "output_type": "stream",
     "text": [
      "/home/drege/mambaforge/envs/magnifier/lib/python3.9/site-packages/tqdm/auto.py:22: TqdmWarning: IProgress not found. Please update jupyter and ipywidgets. See https://ipywidgets.readthedocs.io/en/stable/user_install.html\n",
      "  from .autonotebook import tqdm as notebook_tqdm\n"
     ]
    }
   ],
   "source": [
    "from lightning_modules.california_datamodule import BurnedOnlyDataset"
   ]
  },
  {
   "cell_type": "code",
   "execution_count": 2,
   "metadata": {},
   "outputs": [],
   "source": [
    "dataset = BurnedOnlyDataset(\n",
    "    \"../california_burned_areas/only_burned/burned_512x512.hdf5\",\n",
    "    \"post\",\n",
    "    set(range(5)),\n",
    "    [],\n",
    ")"
   ]
  },
  {
   "cell_type": "code",
   "execution_count": 2,
   "metadata": {},
   "outputs": [
    {
     "data": {
      "text/plain": [
       "534"
      ]
     },
     "execution_count": 2,
     "metadata": {},
     "output_type": "execute_result"
    }
   ],
   "source": [
    "import h5py\n",
    "import hdf5plugin\n",
    "from collections import Counter\n",
    "\n",
    "folds = []\n",
    "with h5py.File(\"data/512x512.hdf5\", \"r\") as f:\n",
    "    for id, values in f.items():\n",
    "        folds += [(values.attrs[\"fold\"], len(values))]\n",
    "sum(Counter(folds).values())"
   ]
  },
  {
   "cell_type": "code",
   "execution_count": 4,
   "metadata": {},
   "outputs": [
    {
     "data": {
      "text/plain": [
       "dtype('float64')"
      ]
     },
     "execution_count": 4,
     "metadata": {},
     "output_type": "execute_result"
    }
   ],
   "source": [
    "import numpy as np\n",
    "\n",
    "(np.random.randint((2, 12, 512, 512)) / 10000).dtype"
   ]
  },
  {
   "cell_type": "code",
   "execution_count": 3,
   "metadata": {},
   "outputs": [],
   "source": [
    "import h5py\n",
    "import numpy as np\n",
    "\n",
    "post = np.empty((512, 512, 12), dtype=np.int32)\n",
    "extras = {}\n",
    "with h5py.File(\"data/512x512.hdf5\", \"r\") as f:\n",
    "    for id, values in f.items():\n",
    "        if 6 not in values.attrs[\"comments\"]:\n",
    "            values[\"post_fire\"].read_direct(post)\n",
    "            extras[id] = (post > 10000).sum()"
   ]
  },
  {
   "cell_type": "code",
   "execution_count": 4,
   "metadata": {},
   "outputs": [
    {
     "data": {
      "text/plain": [
       "'d22e40c3-da6f-4202-bb50-02d303839d87_0'"
      ]
     },
     "execution_count": 4,
     "metadata": {},
     "output_type": "execute_result"
    }
   ],
   "source": [
    "# Get max of extras by value\n",
    "max(extras, key=extras.get)"
   ]
  },
  {
   "cell_type": "code",
   "execution_count": null,
   "metadata": {},
   "outputs": [],
   "source": [
    "with h5py.File(\"data/512x512.hdf5\", \"r\") as f:\n",
    "    f[\"d22e40c3-da6f-4202-bb50-02d303839d87_0\"][\"post_fire\"].read_direct(post)"
   ]
  },
  {
   "cell_type": "code",
   "execution_count": null,
   "metadata": {},
   "outputs": [],
   "source": [
    "# Plot post as histogram\n",
    "import matplotlib.pyplot as plt\n",
    "\n",
    "plt.hist(post.flatten(), bins=100)"
   ]
  },
  {
   "cell_type": "code",
   "execution_count": 1,
   "metadata": {},
   "outputs": [],
   "source": [
    "import h5py"
   ]
  },
  {
   "cell_type": "code",
   "execution_count": 19,
   "metadata": {},
   "outputs": [
    {
     "data": {
      "text/plain": [
       "0.0"
      ]
     },
     "execution_count": 19,
     "metadata": {},
     "output_type": "execute_result"
    }
   ],
   "source": [
    "with h5py.File(\"data/europe.hdf5\") as f:\n",
    "   l = f[\"coral/0/mask\"][...]\n",
    "l.min()"
   ]
  },
  {
   "cell_type": "code",
   "execution_count": 13,
   "metadata": {},
   "outputs": [],
   "source": [
    "with h5py.File(\"data/512x512.hdf5\") as f:\n",
    "    post_c = f[\"012b8863-976c-44e1-a491-9adf19c1cbba_0/post_fire\"][...]"
   ]
  },
  {
   "cell_type": "code",
   "execution_count": 15,
   "metadata": {},
   "outputs": [
    {
     "data": {
      "text/plain": [
       "((512, 512, 12), (512, 512, 12))"
      ]
     },
     "execution_count": 15,
     "metadata": {},
     "output_type": "execute_result"
    }
   ],
   "source": [
    "post_c.shape, post.shape"
   ]
  }
 ],
 "metadata": {
  "kernelspec": {
   "display_name": "magnifier",
   "language": "python",
   "name": "python3"
  },
  "language_info": {
   "codemirror_mode": {
    "name": "ipython",
    "version": 3
   },
   "file_extension": ".py",
   "mimetype": "text/x-python",
   "name": "python",
   "nbconvert_exporter": "python",
   "pygments_lexer": "ipython3",
   "version": "3.9.16"
  },
  "orig_nbformat": 4,
  "vscode": {
   "interpreter": {
    "hash": "4a4196783853d51ef9f94a43015ca76857346f84975e47f4a293688356a76905"
   }
  }
 },
 "nbformat": 4,
 "nbformat_minor": 2
}
